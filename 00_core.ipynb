{
 "cells": [
  {
   "cell_type": "code",
   "execution_count": null,
   "metadata": {},
   "outputs": [],
   "source": [
    "# hide\n",
    "# default_exp core\n",
    "# all_slow"
   ]
  },
  {
   "cell_type": "markdown",
   "metadata": {},
   "source": [
    "# fastcgi API\n",
    "\n",
    "> API details for fastcgi"
   ]
  },
  {
   "cell_type": "code",
   "execution_count": null,
   "metadata": {},
   "outputs": [],
   "source": [
    "#export\n",
    "from fastcore.foundation import *\n",
    "from fastcore.utils import *\n",
    "from fastcore.meta import *\n",
    "\n",
    "import struct,socketserver\n",
    "from enum import Enum\n",
    "from io import BytesIO,TextIOWrapper"
   ]
  },
  {
   "cell_type": "code",
   "execution_count": null,
   "metadata": {},
   "outputs": [],
   "source": [
    "#hide\n",
    "from nbdev.showdoc import *\n",
    "from fastcore.test import *\n",
    "import subprocess,time"
   ]
  },
  {
   "cell_type": "markdown",
   "metadata": {},
   "source": [
    "This library follows the [FastCGI spec](http://www.mit.edu/~yandros/doc/specs/fcgi-spec.html). It only supports the *Responder* role, and does not support multiplexing (which is not supported by any servers, so is unlikely to be an issue)."
   ]
  },
  {
   "cell_type": "markdown",
   "metadata": {},
   "source": [
    "## Enums"
   ]
  },
  {
   "cell_type": "code",
   "execution_count": null,
   "metadata": {},
   "outputs": [],
   "source": [
    "#export\n",
    "Record = Enum('Record', 'BEGIN_REQUEST ABORT_REQUEST END_REQUEST PARAMS STDIN '\n",
    "               'STDOUT STDERR DATA GET_VALUES GET_VALUES_RESULT')\n",
    "Role = Enum('Role', 'RESPONDER AUTHORIZER FILTER')\n",
    "Status = Enum('Status', 'REQUEST_COMPLETE CANT_MPX_CONN OVERLOADED UNKNOWN_ROLE')"
   ]
  },
  {
   "cell_type": "markdown",
   "metadata": {},
   "source": [
    "These `enum`s are used throughout the library, and have the same meanings as the `FCGI_` constants `#define`d in the spec."
   ]
  },
  {
   "cell_type": "code",
   "execution_count": null,
   "metadata": {},
   "outputs": [
    {
     "name": "stdout",
     "output_type": "stream",
     "text": [
      "[<Record.BEGIN_REQUEST: 1>, <Record.ABORT_REQUEST: 2>, <Record.END_REQUEST: 3>, <Record.PARAMS: 4>, <Record.STDIN: 5>, <Record.STDOUT: 6>, <Record.STDERR: 7>, <Record.DATA: 8>, <Record.GET_VALUES: 9>, <Record.GET_VALUES_RESULT: 10>]\n",
      "[<Role.RESPONDER: 1>, <Role.AUTHORIZER: 2>, <Role.FILTER: 3>]\n",
      "[<Status.REQUEST_COMPLETE: 1>, <Status.CANT_MPX_CONN: 2>, <Status.OVERLOADED: 3>, <Status.UNKNOWN_ROLE: 4>]\n"
     ]
    }
   ],
   "source": [
    "for o in Record,Role,Status: print(list(o))"
   ]
  },
  {
   "cell_type": "code",
   "execution_count": null,
   "metadata": {},
   "outputs": [],
   "source": [
    "#export\n",
    "def _S(fmt): return struct.Struct('!'+fmt) # use `struct` \"network order\"\n",
    "_rec_struct = _S('BBHHbb')\n",
    "_endreq_struct = _S('LBxxx')\n",
    "_begreq_struct = _S('Hb5s')\n",
    "\n",
    "_chk_typs = Record.STDIN,Record.DATA\n",
    "_stream_typs = _chk_typs+(Record.PARAMS,Record.STDOUT,Record.STDERR)"
   ]
  },
  {
   "cell_type": "code",
   "execution_count": null,
   "metadata": {},
   "outputs": [],
   "source": [
    "#export\n",
    "class _Parser:\n",
    "    def __init__(self, c): self.c,self.i = c,0\n",
    "\n",
    "    def unpack(self, fmt):\n",
    "        if not isinstance(fmt,struct.Struct): fmt = _S(fmt)\n",
    "        res = fmt.unpack_from(self.c, self.i)\n",
    "        self.i += fmt.size\n",
    "        return res[0] if len(res)==1 else res\n",
    "    \n",
    "    def loop(self, f):\n",
    "        while self.i<len(self.c): yield f(self)"
   ]
  },
  {
   "cell_type": "code",
   "execution_count": null,
   "metadata": {},
   "outputs": [],
   "source": [
    "#export\n",
    "def _record(self):\n",
    "    _,typ,_,contentlen,padlen,_ = self.unpack(_rec_struct)\n",
    "    return Record(typ),self.unpack(f'{contentlen}s{\"x\"*padlen}')\n",
    "\n",
    "def _records(c): yield from _Parser(c).loop(_record)"
   ]
  },
  {
   "cell_type": "code",
   "execution_count": null,
   "metadata": {},
   "outputs": [],
   "source": [
    "#export\n",
    "def _param_sz(self):\n",
    "    # See http://www.mit.edu/~yandros/doc/specs/fcgi-spec.html#S3.4\n",
    "    l = self.unpack('b')\n",
    "    if not l>>7: return l\n",
    "    self.i -= 1\n",
    "    return self.unpack('L') & 0x7fffff\n",
    "\n",
    "def _param(self):\n",
    "    # See http://www.mit.edu/~yandros/doc/specs/fcgi-spec.html#S3.4\n",
    "    lk,lv = _param_sz(self),_param_sz(self)\n",
    "    return self.unpack(f'{lk}s{lv}s')\n",
    "\n",
    "def _params(s):\n",
    "    return {k.decode():v.decode() for k,v in _Parser(s.getvalue()).loop(_param)}"
   ]
  },
  {
   "cell_type": "code",
   "execution_count": null,
   "metadata": {},
   "outputs": [],
   "source": [
    "#export\n",
    "def _unpack_content(typ, c):\n",
    "    \"Unpack the content section of a fastcgi binary record of `typ`\"\n",
    "    if typ==Record.BEGIN_REQUEST: return _begreq_struct.unpack(c)[:2]\n",
    "    if typ==Record.ABORT_REQUEST: return ()\n",
    "    raise Exception(typ)\n",
    "\n",
    "def _pack_rec(typ, c=b''):\n",
    "    \"Create a fastcgi binary record containing optional content `c`\"\n",
    "    return _rec_struct.pack(1, typ.value, 1, len(c), 0, 0) + c\n",
    "\n",
    "def _send_content(req, typ, *args):\n",
    "    \"Send the content section of a fastcgi binary record of `typ` to `req`\"\n",
    "    if typ==Record.END_REQUEST: c = _endreq_struct.pack(*args)\n",
    "    else: c = args[0] if args else b''\n",
    "    req.send(_pack_rec(typ, c))"
   ]
  },
  {
   "cell_type": "code",
   "execution_count": null,
   "metadata": {},
   "outputs": [],
   "source": [
    "#export\n",
    "class _Wrapper(TextIOWrapper): close=TextIOWrapper.flush\n",
    "\n",
    "def _print_bytes(s:str, stream):\n",
    "    \"Convert `s` to `bytes`, using `\\r\\n` for newlines\"\n",
    "    b = _Wrapper(stream, newline='\\r\\n', encoding='utf8')\n",
    "    print(s, file=b)"
   ]
  },
  {
   "cell_type": "code",
   "execution_count": null,
   "metadata": {},
   "outputs": [],
   "source": [
    "#export\n",
    "class _Stream(BytesIO):\n",
    "    def __init__(self, typ:Record, req): self.typ,self.req=typ,req\n",
    "    def _send(self, *args): _send_content(self.req, self.typ, *args)\n",
    "    def send(self):\n",
    "        for o in chunked(self.getvalue(), 2**15): self._send(bytes(o))\n",
    "        self._send()"
   ]
  },
  {
   "cell_type": "code",
   "execution_count": null,
   "metadata": {},
   "outputs": [],
   "source": [
    "#export\n",
    "class FcgiHandler(socketserver.BaseRequestHandler):\n",
    "    def setup(self):\n",
    "        while not self._recv(self.request.recv(2**17)): pass\n",
    "\n",
    "    def finish(self):\n",
    "        for o in self.stdout,self.stderr: o.send()\n",
    "        _send_content(self.request, Record.END_REQUEST, 0, Status.REQUEST_COMPLETE.value)\n",
    "        self.stdin.seek(0)\n",
    "    \n",
    "    def __getattr__(self,k):\n",
    "        try: rec = Record[k.upper()]\n",
    "        except KeyError: raise AttributeError(k)\n",
    "        return self.streams[rec]\n",
    "\n",
    "    def _recv(self,d):\n",
    "        for typ,c in _records(d):\n",
    "            if typ in (Record.PARAMS,*_chk_typs):\n",
    "                self.streams[typ].write(c)\n",
    "                if typ == Record.PARAMS and not c: self.environ = dict(_params(self.streams[typ]))\n",
    "                elif typ in _chk_typs: self.sz += len(c)\n",
    "            else: getattr(self,'_'+typ.name)(*_unpack_content(typ,c))\n",
    "        if self.sz>=self.length: return True\n",
    "\n",
    "    def _ABORT_REQUEST(self): self.sz=self.length\n",
    "    def _BEGIN_REQUEST(self,role,keep_conn):\n",
    "        self.streams = L(_stream_typs).map_dict(_Stream, req=self.request)\n",
    "        self.sz,self.environ = 0,{}\n",
    "        assert Role(role)==Role.RESPONDER, f\"{role} not supported\"\n",
    "        assert not keep_conn, \"FCGI_KEEP_CONN not supported\"\n",
    "\n",
    "    @property\n",
    "    def content(self): return self.stdin.getvalue()\n",
    "    @property\n",
    "    def length(self): return int(self.environ.get('CONTENT_LENGTH', 1))"
   ]
  },
  {
   "cell_type": "markdown",
   "metadata": {},
   "source": [
    "This is used in much the same way as [BaseRecordHandler](https://docs.python.org/3/library/socketserver.html#request-handler-objects), except that receiving the data is handled for you before your `handle` method is called. All headers are available in the `params` dictionary, and `stdin` contains the data sent to your handler.\n",
    "\n",
    "Use the `stdout` and `stderr` streams to send data to the client.\n",
    "\n",
    "Here's an example subclass:"
   ]
  },
  {
   "cell_type": "code",
   "execution_count": null,
   "metadata": {},
   "outputs": [],
   "source": [
    "class TestHandler(FcgiHandler):\n",
    "    def handle(self):\n",
    "        print('query:', self.environ['QUERY_STRING'])\n",
    "        print('content type:', self.environ['HTTP_CONTENT_TYPE'])\n",
    "        print('stdin:', self.content)\n",
    "        self.stdout.write(b\"Content-type: text/html\\r\\n\\r\\n<html>foobar</html>\\r\\n\")"
   ]
  },
  {
   "cell_type": "markdown",
   "metadata": {},
   "source": [
    "To test it, we'll use an http➡fcgi proxy. We can download `http2fcgi` and run it in the background as follows:"
   ]
  },
  {
   "cell_type": "code",
   "execution_count": null,
   "metadata": {},
   "outputs": [],
   "source": [
    "p = Path('test.sock').absolute()\n",
    "\n",
    "run('./get_http2fcgi.sh')\n",
    "proc = subprocess.Popen(f'./http2fcgi -fcgi unix:///{p} -ext py'.split())"
   ]
  },
  {
   "cell_type": "markdown",
   "metadata": {},
   "source": [
    "We can now test the handler by running a server in the background..."
   ]
  },
  {
   "cell_type": "code",
   "execution_count": null,
   "metadata": {},
   "outputs": [],
   "source": [
    "@threaded\n",
    "def _f():\n",
    "    with socketserver.UnixStreamServer(str(p), TestHandler) as server: server.handle_request()\n",
    "\n",
    "if p.exists(): p.unlink()\n",
    "t = _f()\n",
    "time.sleep(0.2) # wait for server to start"
   ]
  },
  {
   "cell_type": "markdown",
   "metadata": {},
   "source": [
    "...and use `curl` to test it:"
   ]
  },
  {
   "cell_type": "code",
   "execution_count": null,
   "metadata": {},
   "outputs": [
    {
     "name": "stdout",
     "output_type": "stream",
     "text": [
      "query: a=1\n",
      "content type: application/json\n",
      "stdin: b'test'\n",
      "<html>foobar</html>\r",
      "\r\n"
     ]
    }
   ],
   "source": [
    "!curl 'http://localhost:6065/setup.py?a=1' -X POST -H \"Content-Type: application/json\" -d test"
   ]
  },
  {
   "cell_type": "markdown",
   "metadata": {},
   "source": [
    "Finally, we kill the `http2fcgi` background process."
   ]
  },
  {
   "cell_type": "code",
   "execution_count": null,
   "metadata": {},
   "outputs": [],
   "source": [
    "proc.terminate()"
   ]
  },
  {
   "cell_type": "markdown",
   "metadata": {},
   "source": [
    "### Convenience methods"
   ]
  },
  {
   "cell_type": "code",
   "execution_count": null,
   "metadata": {},
   "outputs": [],
   "source": [
    "#export\n",
    "@patch\n",
    "def print(self:FcgiHandler,s=\"\"):\n",
    "    \"Write a `str` to `self.stdout` as bytes, converting line endings to `\\r\\n`\"\n",
    "    _print_bytes(s, self.stdout)"
   ]
  },
  {
   "cell_type": "markdown",
   "metadata": {},
   "source": [
    "Instead of `self.stdout.write(...)` (which requires byte strings and `\\r\\n` line endings, and does not append a line ending automatically) we can use `print`:\n",
    "\n",
    "```python\n",
    "self.print(\"Content-type: text/html\")\n",
    "self.print()\n",
    "self.print(\"<html>foobar</html>\")\n",
    "```"
   ]
  },
  {
   "cell_type": "code",
   "execution_count": null,
   "metadata": {},
   "outputs": [],
   "source": [
    "#export\n",
    "@patch\n",
    "def err(self:FcgiHandler,s=\"\"):\n",
    "    \"Write a `str` to `self.stderr` as bytes, converting line endings to `\\r\\n`\"\n",
    "    _print_bytes(s, self.stderr)"
   ]
  },
  {
   "cell_type": "markdown",
   "metadata": {},
   "source": [
    "For errors, you can either `write` to `stderr`:\n",
    "\n",
    "```python\n",
    "self.stderr.write(b\"Something went wrong\\r\\n\")\n",
    "```\n",
    "\n",
    "or call `error`, which is like `print`, but for `stderr`:\n",
    "\n",
    "```python\n",
    "self.error(\"Something went wrong\")\n",
    "```"
   ]
  },
  {
   "cell_type": "markdown",
   "metadata": {},
   "source": [
    "## Export -"
   ]
  },
  {
   "cell_type": "code",
   "execution_count": null,
   "metadata": {},
   "outputs": [
    {
     "name": "stdout",
     "output_type": "stream",
     "text": [
      "Converted 00_core.ipynb.\n",
      "Converted index.ipynb.\n"
     ]
    }
   ],
   "source": [
    "#hide\n",
    "from nbdev.export import notebook2script\n",
    "notebook2script()"
   ]
  },
  {
   "cell_type": "code",
   "execution_count": null,
   "metadata": {},
   "outputs": [],
   "source": []
  }
 ],
 "metadata": {
  "kernelspec": {
   "display_name": "Python 3",
   "language": "python",
   "name": "python3"
  }
 },
 "nbformat": 4,
 "nbformat_minor": 2
}
