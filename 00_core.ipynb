{
 "cells": [
  {
   "cell_type": "code",
   "execution_count": null,
   "metadata": {},
   "outputs": [],
   "source": [
    "# hide\n",
    "# default_exp core\n",
    "# all_slow"
   ]
  },
  {
   "cell_type": "markdown",
   "metadata": {},
   "source": [
    "# fastcgi API\n",
    "\n",
    "> API details for fastcgi"
   ]
  },
  {
   "cell_type": "code",
   "execution_count": null,
   "metadata": {},
   "outputs": [],
   "source": [
    "#export\n",
    "from fastcore.foundation import *\n",
    "from fastcore.utils import *\n",
    "from fastcore.meta import *\n",
    "\n",
    "import struct\n",
    "from socketserver import StreamRequestHandler,BaseRequestHandler,UnixStreamServer,TCPServer\n",
    "from enum import Enum\n",
    "from io import BytesIO,TextIOWrapper"
   ]
  },
  {
   "cell_type": "code",
   "execution_count": null,
   "metadata": {},
   "outputs": [],
   "source": [
    "#hide\n",
    "from nbdev.showdoc import *\n",
    "from fastcore.test import *\n",
    "import subprocess,time"
   ]
  },
  {
   "cell_type": "markdown",
   "metadata": {},
   "source": [
    "This library follows the [FastCGI spec](http://www.mit.edu/~yandros/doc/specs/fcgi-spec.html). It only supports the *Responder* role, and does not support multiplexing (which is not supported by any servers, so is unlikely to be an issue)."
   ]
  },
  {
   "cell_type": "markdown",
   "metadata": {},
   "source": [
    "## Enums"
   ]
  },
  {
   "cell_type": "code",
   "execution_count": null,
   "metadata": {},
   "outputs": [],
   "source": [
    "#export\n",
    "Record = Enum('Record', 'BEGIN_REQUEST ABORT_REQUEST END_REQUEST PARAMS STDIN '\n",
    "               'STDOUT STDERR DATA GET_VALUES GET_VALUES_RESULT')\n",
    "Role = Enum('Role', 'RESPONDER AUTHORIZER FILTER')\n",
    "Status = Enum('Status', 'REQUEST_COMPLETE CANT_MPX_CONN OVERLOADED UNKNOWN_ROLE')"
   ]
  },
  {
   "cell_type": "markdown",
   "metadata": {},
   "source": [
    "These `enum`s are used throughout the library, and have the same meanings as the `FCGI_` constants `#define`d in the spec."
   ]
  },
  {
   "cell_type": "code",
   "execution_count": null,
   "metadata": {},
   "outputs": [
    {
     "name": "stdout",
     "output_type": "stream",
     "text": [
      "[<Record.BEGIN_REQUEST: 1>, <Record.ABORT_REQUEST: 2>, <Record.END_REQUEST: 3>, <Record.PARAMS: 4>, <Record.STDIN: 5>, <Record.STDOUT: 6>, <Record.STDERR: 7>, <Record.DATA: 8>, <Record.GET_VALUES: 9>, <Record.GET_VALUES_RESULT: 10>]\n",
      "[<Role.RESPONDER: 1>, <Role.AUTHORIZER: 2>, <Role.FILTER: 3>]\n",
      "[<Status.REQUEST_COMPLETE: 1>, <Status.CANT_MPX_CONN: 2>, <Status.OVERLOADED: 3>, <Status.UNKNOWN_ROLE: 4>]\n"
     ]
    }
   ],
   "source": [
    "for o in Record,Role,Status: print(list(o))"
   ]
  },
  {
   "cell_type": "code",
   "execution_count": null,
   "metadata": {},
   "outputs": [],
   "source": [
    "#export\n",
    "def _S(fmt): return struct.Struct('!'+fmt) # use `struct` \"network order\"\n",
    "_rec_struct,_endreq_struct,_begreq_struct,_long_struct = _S('BBHHbb'),_S('LBxxx'),_S('Hb5s'),_S('L')\n",
    "_streams_data = Record.STDIN,Record.DATA\n",
    "_streams_in  = (Record.PARAMS,) + _streams_data\n",
    "_streams = _streams_in + (Record.STDOUT,Record.STDERR,Record.END_REQUEST)"
   ]
  },
  {
   "cell_type": "code",
   "execution_count": null,
   "metadata": {},
   "outputs": [],
   "source": [
    "#export\n",
    "def readlen(r):\n",
    "    \"Read the length of the next fcgi parameter\"\n",
    "    # See http://www.mit.edu/~yandros/doc/specs/fcgi-spec.html#S3.4\n",
    "    a = r(1)\n",
    "    res = a[0]\n",
    "    if res>>7: res =_long_struct.unpack(a+r(3))[0] & 0x7fffffff\n",
    "    return res"
   ]
  },
  {
   "cell_type": "code",
   "execution_count": null,
   "metadata": {},
   "outputs": [],
   "source": [
    "t = 1_000_000_101\n",
    "s = struct.pack('!L', t | (1<<31))\n",
    "test_eq(readlen(BytesIO(s).read), t)"
   ]
  },
  {
   "cell_type": "code",
   "execution_count": null,
   "metadata": {},
   "outputs": [],
   "source": [
    "def _recv_struct(recv, fmt):\n",
    "    if not isinstance(fmt,struct.Struct): fmt = _S(fmt)\n",
    "    res = fmt.unpack(recv(fmt.size))\n",
    "    return res[0] if len(res)==1 else res"
   ]
  },
  {
   "cell_type": "code",
   "execution_count": null,
   "metadata": {},
   "outputs": [],
   "source": [
    "def recv_record(r):\n",
    "    _,typ,_,contentlen,padlen,_ = _recv_struct(r, _rec_struct)\n",
    "    c = _recv_struct(r, f'{contentlen}s{\"x\"*padlen}')\n",
    "    typ = Record(typ)\n",
    "    if   typ==Record.BEGIN_REQUEST: c = _begreq_struct.unpack(c)[:2]\n",
    "    elif typ==Record.ABORT_REQUEST: c = ()\n",
    "    return typ,c"
   ]
  },
  {
   "cell_type": "code",
   "execution_count": null,
   "metadata": {},
   "outputs": [],
   "source": [
    "#hide\n",
    "d = b'\\x01\\x01\\x00\\x01\\x00\\x08\\x00\\x00\\x00\\x01\\x00\\x00\\x00\\x00\\x00\\x00\\x01\\x04\\x00\\x01\\x01\\xea\\x06\\x00\\x12\\x10REQUEST_TIME_FLOAT1605811743685432\\x0f\\tPATH_TRANSLATED/setup.py\\t\\tPATH_INFO/setup.py\\x13\\x01HTTP_CONTENT_LENGTH4\\x0e\\x04REQUEST_METHODPOST\\x0b\\x03REMOTE_ADDR::1\\x0b\\x05REMOTE_PORT52102\\x0b\\tSCRIPT_NAME/setup.py\\x0e\\tORIG_PATH_INFO/setup.py\\x0b\\x03HTTP_ACCEPT*/*\\x0f\\x08SERVER_PROTOCOLHTTP/1.1\\x0c\\nREQUEST_TIME1605811743\\x0c\\x03QUERY_STRINGa=1\\t\\x0eHTTP_HOSTlocalhost:6065\\x11\\x10HTTP_CONTENT_TYPEapplication/json\\x0f\\tSERVER_SOFTWAREhttp2fcgi\\r\\tDOCUMENT_ROOT/setup.py\\x0f\\tSCRIPT_FILENAME/setup.py\\x0b\\rREQUEST_URI/setup.py?a=1\\x0b\\x00AUTH_DIGEST\\x0f\\x0bHTTP_USER_AGENTcurl/7.71.1\\x00\\x00\\x00\\x00\\x00\\x00\\x01\\x04\\x00\\x01\\x00\\x00\\x00\\x00\\x01\\x05\\x00\\x01\\x00\\x04\\x04\\x00test\\x00\\x00\\x00\\x00\\x01\\x05\\x00\\x01\\x00\\x00\\x00\\x00'"
   ]
  },
  {
   "cell_type": "code",
   "execution_count": null,
   "metadata": {},
   "outputs": [
    {
     "data": {
      "text/plain": [
       "(<Record.PARAMS: 4>,\n",
       " b'\\x12\\x10REQUEST_TIME_FLOAT1605811743685432\\x0f\\tPATH_TRANSLATED/setup.py\\t\\tPATH_INFO/setup.py\\x13\\x01HTTP_CONTENT_LENGTH4\\x0e\\x04REQUEST_METHODPOST\\x0b\\x03REMOTE_ADDR::1\\x0b\\x05REMOTE_PORT52102\\x0b\\tSCRIPT_NAME/setup.py\\x0e\\tORIG_PATH_INFO/setup.py\\x0b\\x03HTTP_ACCEPT*/*\\x0f\\x08SERVER_PROTOCOLHTTP/1.1\\x0c\\nREQUEST_TIME1605811743\\x0c\\x03QUERY_STRINGa=1\\t\\x0eHTTP_HOSTlocalhost:6065\\x11\\x10HTTP_CONTENT_TYPEapplication/json\\x0f\\tSERVER_SOFTWAREhttp2fcgi\\r\\tDOCUMENT_ROOT/setup.py\\x0f\\tSCRIPT_FILENAME/setup.py\\x0b\\rREQUEST_URI/setup.py?a=1\\x0b\\x00AUTH_DIGEST\\x0f\\x0bHTTP_USER_AGENTcurl/7.71.1')"
      ]
     },
     "execution_count": null,
     "metadata": {},
     "output_type": "execute_result"
    }
   ],
   "source": [
    "b = BytesIO(d).read\n",
    "recv_record(b)\n",
    "\n",
    "typ,p = recv_record(b); typ,p"
   ]
  },
  {
   "cell_type": "code",
   "execution_count": null,
   "metadata": {},
   "outputs": [
    {
     "data": {
      "text/plain": [
       "(<Record.PARAMS: 4>, b'')"
      ]
     },
     "execution_count": null,
     "metadata": {},
     "output_type": "execute_result"
    }
   ],
   "source": [
    "recv_record(b)"
   ]
  },
  {
   "cell_type": "code",
   "execution_count": null,
   "metadata": {},
   "outputs": [],
   "source": [
    "def _params(s):\n",
    "    b = BytesIO(s)\n",
    "    r = b.read\n",
    "    while b.tell()<len(s):\n",
    "        lk,lv = readlen(r),readlen(r)\n",
    "        yield _recv_struct(r, f'{lk}s{lv}s')\n",
    "\n",
    "def params(s):\n",
    "    return {k.decode():v.decode() for k,v in _params(s)}"
   ]
  },
  {
   "cell_type": "code",
   "execution_count": null,
   "metadata": {},
   "outputs": [
    {
     "data": {
      "text/plain": [
       "{'REQUEST_TIME_FLOAT': '1605811743685432',\n",
       " 'PATH_TRANSLATED': '/setup.py',\n",
       " 'PATH_INFO': '/setup.py',\n",
       " 'HTTP_CONTENT_LENGTH': '4',\n",
       " 'REQUEST_METHOD': 'POST',\n",
       " 'REMOTE_ADDR': '::1',\n",
       " 'REMOTE_PORT': '52102',\n",
       " 'SCRIPT_NAME': '/setup.py',\n",
       " 'ORIG_PATH_INFO': '/setup.py',\n",
       " 'HTTP_ACCEPT': '*/*',\n",
       " 'SERVER_PROTOCOL': 'HTTP/1.1',\n",
       " 'REQUEST_TIME': '1605811743',\n",
       " 'QUERY_STRING': 'a=1',\n",
       " 'HTTP_HOST': 'localhost:6065',\n",
       " 'HTTP_CONTENT_TYPE': 'application/json',\n",
       " 'SERVER_SOFTWARE': 'http2fcgi',\n",
       " 'DOCUMENT_ROOT': '/setup.py',\n",
       " 'SCRIPT_FILENAME': '/setup.py',\n",
       " 'REQUEST_URI': '/setup.py?a=1',\n",
       " 'AUTH_DIGEST': '',\n",
       " 'HTTP_USER_AGENT': 'curl/7.71.1'}"
      ]
     },
     "execution_count": null,
     "metadata": {},
     "output_type": "execute_result"
    }
   ],
   "source": [
    "params(p)"
   ]
  },
  {
   "cell_type": "code",
   "execution_count": null,
   "metadata": {},
   "outputs": [],
   "source": [
    "#export\n",
    "def _send_content(r, typ, *args):\n",
    "    \"Send the content section of a fastcgi binary record of `typ` to `req`\"\n",
    "    if typ==Record.END_REQUEST: c = _endreq_struct.pack(*args)\n",
    "    else: c = args[0] if args else b''\n",
    "    r(_rec_struct.pack(1, typ.value, 1, len(c), 0, 0) + c)"
   ]
  },
  {
   "cell_type": "code",
   "execution_count": null,
   "metadata": {},
   "outputs": [],
   "source": [
    "#export\n",
    "class ByteStream(BytesIO):\n",
    "    def __init__(self, typ:Record, r): self.typ,self.r = typ,r\n",
    "\n",
    "    def _send(self, *args): _send_content(self.r, self.typ, *args)\n",
    "    def send(self):\n",
    "        for o in chunked(self.getvalue(), 2**15): self._send(bytes(o))\n",
    "        self._send()"
   ]
  },
  {
   "cell_type": "code",
   "execution_count": null,
   "metadata": {},
   "outputs": [],
   "source": [
    "#export\n",
    "class FcgiHandler(StreamRequestHandler):\n",
    "    \"A request handler that processes FastCGI streams and parameters\"\n",
    "    def setup(self):\n",
    "        super().setup()\n",
    "        self.streams = L(_streams).map_dict(ByteStream, r=self.wfile.write)\n",
    "        sz,self.length = 0,1\n",
    "        while sz<self.length: sz += ifnone(self._recv(), 0)\n",
    "\n",
    "    def finish(self):\n",
    "        super().finish()\n",
    "        self['stdout'].send()\n",
    "        self['stderr'].send()\n",
    "        self['end_request']._send(0, Status.REQUEST_COMPLETE.value)\n",
    "        self['stdin'].seek(0)\n",
    "    \n",
    "    def _recv(self):\n",
    "        typ,c = recv_record(self.rfile.read)\n",
    "        if typ in _streams_in:\n",
    "            self[typ].write(c)\n",
    "            if typ==Record.PARAMS and not c:\n",
    "                self.environ = params(self[typ].getbuffer())\n",
    "                self.length = int(self.environ['HTTP_CONTENT_LENGTH'] or 0)\n",
    "        if typ in _streams_data: return len(c)\n",
    "\n",
    "    @property\n",
    "    def content(self): return self['stdin'].getbuffer()\n",
    "    def __getitem__(self,k): return self.streams[Record[k.upper()] if isinstance(k,str) else k]"
   ]
  },
  {
   "cell_type": "markdown",
   "metadata": {},
   "source": [
    "This is used in much the same way as [StreamRequestHandler](https://docs.python.org/3/library/socketserver.html#request-handler-objects), except that receiving the data is handled for you before your `handle` method is called. All headers are available in the `params` dictionary. All streams are available through indexing (i.e. using `__getitem__`). The `stdin` stream contains the data sent to your handler. Write to the `stdout` and `stderr` streams to send data to the client, or use the `write` method."
   ]
  },
  {
   "cell_type": "code",
   "execution_count": null,
   "metadata": {},
   "outputs": [],
   "source": [
    "#export\n",
    "@patch\n",
    "def write(self:FcgiHandler, b:bytes, err=False):\n",
    "    \"Write `b` to stderr (if `err`) or stdout (otherwise)\"\n",
    "    self['stderr' if err else 'stdout'].write(b)"
   ]
  },
  {
   "cell_type": "markdown",
   "metadata": {},
   "source": [
    "Here's an example subclass:"
   ]
  },
  {
   "cell_type": "code",
   "execution_count": null,
   "metadata": {},
   "outputs": [],
   "source": [
    "class TestHandler(FcgiHandler):\n",
    "    def handle(self):\n",
    "        print('query:', self.environ['QUERY_STRING'])\n",
    "        print('content type:', self.environ['HTTP_CONTENT_TYPE'])\n",
    "        print('stdin:', self.content)\n",
    "        self.write(b\"Content-type: text/html\\r\\n\\r\\n<html>foobar</html>\\r\\n\")"
   ]
  },
  {
   "cell_type": "markdown",
   "metadata": {},
   "source": [
    "To test it, we'll use an http➡fcgi proxy. We can download `http2fcgi` and run it in the background as follows:"
   ]
  },
  {
   "cell_type": "code",
   "execution_count": null,
   "metadata": {},
   "outputs": [],
   "source": [
    "run('./get_http2fcgi.sh')\n",
    "proc = subprocess.Popen(['./http2fcgi'])"
   ]
  },
  {
   "cell_type": "markdown",
   "metadata": {},
   "source": [
    "We can now test the handler by running a server in the background..."
   ]
  },
  {
   "cell_type": "code",
   "execution_count": null,
   "metadata": {},
   "outputs": [],
   "source": [
    "p = Path('fcgi.sock')\n",
    "\n",
    "@threaded\n",
    "def _f():\n",
    "    with UnixStreamServer(str(p), TestHandler) as srv: srv.handle_request()\n",
    "\n",
    "if p.exists(): p.unlink()\n",
    "t = _f()\n",
    "time.sleep(0.2) # wait for server to start"
   ]
  },
  {
   "cell_type": "markdown",
   "metadata": {},
   "source": [
    "...and use `curl` to test it:"
   ]
  },
  {
   "cell_type": "code",
   "execution_count": null,
   "metadata": {},
   "outputs": [
    {
     "name": "stdout",
     "output_type": "stream",
     "text": [
      "query: a=1\n",
      "content type: application/json\n",
      "stdin: <memory at 0x7f1b205b1a10>\n",
      "<html>foobar</html>\r",
      "\r\n"
     ]
    }
   ],
   "source": [
    "!curl 'http://localhost:6065/setup.py?a=1' -X POST -H \"Content-Type: application/json\" -d test"
   ]
  },
  {
   "cell_type": "markdown",
   "metadata": {},
   "source": [
    "Finally, we kill the `http2fcgi` background process."
   ]
  },
  {
   "cell_type": "code",
   "execution_count": null,
   "metadata": {},
   "outputs": [],
   "source": [
    "proc.terminate()"
   ]
  },
  {
   "cell_type": "markdown",
   "metadata": {},
   "source": [
    "### Convenience methods"
   ]
  },
  {
   "cell_type": "code",
   "execution_count": null,
   "metadata": {},
   "outputs": [],
   "source": [
    "#export\n",
    "class _Wrapper(TextIOWrapper): close=TextIOWrapper.flush\n",
    "\n",
    "def _print_bytes(s:str, stream):\n",
    "    \"Convert `s` to `bytes`, using `\\r\\n` for newlines\"\n",
    "    b = _Wrapper(stream, newline='\\r\\n', encoding='utf8')\n",
    "    print(s, file=b)"
   ]
  },
  {
   "cell_type": "code",
   "execution_count": null,
   "metadata": {},
   "outputs": [],
   "source": [
    "#export\n",
    "@patch\n",
    "def print(self:FcgiHandler,s=\"\"):\n",
    "    \"Write a `str` to `self.stdout` as bytes, converting line endings to `\\r\\n`\"\n",
    "    _print_bytes(s, self['stdout'])"
   ]
  },
  {
   "cell_type": "markdown",
   "metadata": {},
   "source": [
    "Instead of `self.stdout.write(...)` (which requires byte strings and `\\r\\n` line endings, and does not append a line ending automatically) we can use `print`:\n",
    "\n",
    "```python\n",
    "self.print(\"Content-type: text/html\")\n",
    "self.print()\n",
    "self.print(\"<html>foobar</html>\")\n",
    "```"
   ]
  },
  {
   "cell_type": "code",
   "execution_count": null,
   "metadata": {},
   "outputs": [],
   "source": [
    "#export\n",
    "@patch\n",
    "def err(self:FcgiHandler,s=\"\"):\n",
    "    \"Write a `str` to `self.stderr` as bytes, converting line endings to `\\r\\n`\"\n",
    "    _print_bytes(s, self['stderr'])"
   ]
  },
  {
   "cell_type": "markdown",
   "metadata": {},
   "source": [
    "For errors, you can either `write` to `stderr`:\n",
    "\n",
    "```python\n",
    "self.stderr.write(b\"Something went wrong\\r\\n\")\n",
    "```\n",
    "\n",
    "or call `error`, which is like `print`, but for `stderr`:\n",
    "\n",
    "```python\n",
    "self.error(\"Something went wrong\")\n",
    "```"
   ]
  },
  {
   "cell_type": "markdown",
   "metadata": {},
   "source": [
    "## Export -"
   ]
  },
  {
   "cell_type": "code",
   "execution_count": null,
   "metadata": {},
   "outputs": [
    {
     "name": "stdout",
     "output_type": "stream",
     "text": [
      "Converted 00_core.ipynb.\n",
      "Converted index.ipynb.\n"
     ]
    }
   ],
   "source": [
    "#hide\n",
    "from nbdev.export import notebook2script\n",
    "notebook2script()"
   ]
  },
  {
   "cell_type": "code",
   "execution_count": null,
   "metadata": {},
   "outputs": [],
   "source": []
  }
 ],
 "metadata": {
  "kernelspec": {
   "display_name": "Python 3",
   "language": "python",
   "name": "python3"
  }
 },
 "nbformat": 4,
 "nbformat_minor": 2
}
