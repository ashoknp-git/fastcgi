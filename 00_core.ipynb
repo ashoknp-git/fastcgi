{
 "cells": [
  {
   "cell_type": "code",
   "execution_count": null,
   "metadata": {},
   "outputs": [],
   "source": [
    "# hide\n",
    "# default_exp core\n",
    "# all_slow"
   ]
  },
  {
   "cell_type": "markdown",
   "metadata": {},
   "source": [
    "# fastcgi API\n",
    "\n",
    "> API details for fastcgi"
   ]
  },
  {
   "cell_type": "code",
   "execution_count": null,
   "metadata": {},
   "outputs": [],
   "source": [
    "#export\n",
    "from fastcore.foundation import *\n",
    "from fastcore.utils import *\n",
    "from fastcore.meta import *\n",
    "\n",
    "import struct,socketserver\n",
    "from enum import Enum\n",
    "from collections import defaultdict"
   ]
  },
  {
   "cell_type": "code",
   "execution_count": null,
   "metadata": {},
   "outputs": [],
   "source": [
    "#hide\n",
    "from nbdev.showdoc import *\n",
    "from fastcore.test import *\n",
    "import subprocess"
   ]
  },
  {
   "cell_type": "markdown",
   "metadata": {},
   "source": [
    "This library follows the [FastCGI spec](http://www.mit.edu/~yandros/doc/specs/fcgi-spec.html). It only supports the *Responder* role, and does not support multiplexing (which is not supported by any servers, so is unlikely to be an issue)."
   ]
  },
  {
   "cell_type": "markdown",
   "metadata": {},
   "source": [
    "## Helpers"
   ]
  },
  {
   "cell_type": "markdown",
   "metadata": {},
   "source": [
    "You probably won't need to use these helpers directly; they are made public and documented in case you want to customize anything."
   ]
  },
  {
   "cell_type": "code",
   "execution_count": null,
   "metadata": {},
   "outputs": [],
   "source": [
    "#export\n",
    "Request = Enum('Request', 'BEGIN_REQUEST ABORT_REQUEST END_REQUEST PARAMS STDIN '\n",
    "               'STDOUT STDERR DATA GET_VALUES GET_VALUES_RESULT')\n",
    "Role = Enum('Role', 'RESPONDER AUTHORIZER FILTER')\n",
    "Status = Enum('Status', 'REQUEST_COMPLETE CANT_MPX_CONN OVERLOADED UNKNOWN_ROLE')"
   ]
  },
  {
   "cell_type": "markdown",
   "metadata": {},
   "source": [
    "These `enum`s are used throughout the library, and have the same meanings as the `FCGI_` constants `#define`d in the spec."
   ]
  },
  {
   "cell_type": "code",
   "execution_count": null,
   "metadata": {},
   "outputs": [
    {
     "name": "stdout",
     "output_type": "stream",
     "text": [
      "[<Request.BEGIN_REQUEST: 1>, <Request.ABORT_REQUEST: 2>, <Request.END_REQUEST: 3>, <Request.PARAMS: 4>, <Request.STDIN: 5>, <Request.STDOUT: 6>, <Request.STDERR: 7>, <Request.DATA: 8>, <Request.GET_VALUES: 9>, <Request.GET_VALUES_RESULT: 10>]\n",
      "[<Role.RESPONDER: 1>, <Role.AUTHORIZER: 2>, <Role.FILTER: 3>]\n",
      "[<Status.REQUEST_COMPLETE: 1>, <Status.CANT_MPX_CONN: 2>, <Status.OVERLOADED: 3>, <Status.UNKNOWN_ROLE: 4>]\n"
     ]
    }
   ],
   "source": [
    "for o in Request,Role,Status: print(list(o))"
   ]
  },
  {
   "cell_type": "code",
   "execution_count": null,
   "metadata": {},
   "outputs": [],
   "source": [
    "#export\n",
    "def unpack_from(fmt, s, offset=0, prefix=\"!\"):\n",
    "    \"`struct.unpack_from` with `prefix`\"\n",
    "    return struct.unpack_from(prefix+fmt, s, offset)"
   ]
  },
  {
   "cell_type": "code",
   "execution_count": null,
   "metadata": {},
   "outputs": [],
   "source": [
    "#export\n",
    "def pack(s, *args, prefix=\"!\"):\n",
    "    \"`struct.pack` with `prefix`\"\n",
    "    return struct.pack(prefix+s, *args)"
   ]
  },
  {
   "cell_type": "markdown",
   "metadata": {},
   "source": [
    "Since fastcgi uses \"network order\" in its binary protocol, we define pack and unpack functions that use that default."
   ]
  },
  {
   "cell_type": "code",
   "execution_count": null,
   "metadata": {},
   "outputs": [],
   "source": [
    "#export\n",
    "_REC_STRUCT = 'BBHHbb'\n",
    "_chk_typs = Request.STDIN,Request.DATA"
   ]
  },
  {
   "cell_type": "code",
   "execution_count": null,
   "metadata": {},
   "outputs": [],
   "source": [
    "#export\n",
    "def pack_rec(typ, c=b''):\n",
    "    \"Create a fastcgi binary record containing optional content `c`\"\n",
    "    if isinstance(typ,Request): typ=typ.value\n",
    "    return pack(_REC_STRUCT, 1, typ, 1, len(c), 0, 0) + c"
   ]
  },
  {
   "cell_type": "code",
   "execution_count": null,
   "metadata": {},
   "outputs": [],
   "source": [
    "#export\n",
    "def unpack_sz(fmt, s, offset=0, prefix=\"!\"):\n",
    "    \"`unpack_from`, returning new `offset` based on size of `fmt`\"\n",
    "    sz = struct.calcsize(fmt)\n",
    "    res = unpack_from(fmt, s, offset, prefix)\n",
    "    return offset+sz,(res[0] if len(res)==1 else res)"
   ]
  },
  {
   "cell_type": "code",
   "execution_count": null,
   "metadata": {},
   "outputs": [],
   "source": [
    "#export\n",
    "def unpack_rec(c,i):\n",
    "    \"Unpack a fastcgi binary record starting at offset `i`\"\n",
    "    i,(_,typ,_,contentlen,padlen,_) = unpack_sz(_REC_STRUCT, c, i)\n",
    "    i,content = unpack_sz(f'{contentlen}s{\"x\"*padlen}', c, i)\n",
    "    return i,(Request(typ),content)"
   ]
  },
  {
   "cell_type": "code",
   "execution_count": null,
   "metadata": {},
   "outputs": [],
   "source": [
    "#export\n",
    "def unpack_content(typ, c):\n",
    "    \"Unpack the content section of a fastcgi binary record of `typ`\"\n",
    "    if typ==Request.BEGIN_REQUEST: return unpack_from('Hb5s', c)[:2]\n",
    "    if typ==Request.ABORT_REQUEST: return ()\n",
    "    raise Exception(typ)"
   ]
  },
  {
   "cell_type": "code",
   "execution_count": null,
   "metadata": {},
   "outputs": [],
   "source": [
    "#export\n",
    "def _loop_thru(data,f,i=0):\n",
    "    \"Loop thru `data`, calling `f`, which updates `i`\"\n",
    "    while i<len(data):\n",
    "        i,res = f(data,i)\n",
    "        yield res\n",
    "\n",
    "def _param_sz(c,i):\n",
    "    # See http://www.mit.edu/~yandros/doc/specs/fcgi-spec.html#S3.4\n",
    "    i,l = unpack_sz('b', c, i)\n",
    "    return unpack_sz('L', c, i-1) & 0x7fffff if l>>7 else i,l\n",
    "\n",
    "def _param(c, i):\n",
    "    # See http://www.mit.edu/~yandros/doc/specs/fcgi-spec.html#S3.4\n",
    "    i,lk = _param_sz(c,i)\n",
    "    i,lv = _param_sz(c,i)\n",
    "    i,res = unpack_sz(f'{lk}s{lv}s', c, i)\n",
    "    return i,res\n",
    "\n",
    "def _params(c): return {k.decode():v.decode() for k,v in _loop_thru(c,_param)}\n",
    "def _records(c): return _loop_thru(c,unpack_rec)"
   ]
  },
  {
   "cell_type": "code",
   "execution_count": null,
   "metadata": {},
   "outputs": [],
   "source": [
    "#export\n",
    "class _Stream:\n",
    "    def __init__(self): self.buf,self.done = b'',False\n",
    "    def __repr__(self): return str(self.buf)\n",
    "    def __str__(self): return self.buf.decode()\n",
    "\n",
    "    def append(self,d):\n",
    "        self.buf += d\n",
    "        self.done = not d"
   ]
  },
  {
   "cell_type": "code",
   "execution_count": null,
   "metadata": {},
   "outputs": [],
   "source": [
    "#export\n",
    "class FcgiHandler(socketserver.BaseRequestHandler):\n",
    "    def setup(self):\n",
    "        while not self._recv(self.request.recv(68000)): pass\n",
    "\n",
    "    def finish(self):\n",
    "        self._end(Request.STDOUT)\n",
    "        self._end(Request.STDERR)\n",
    "        self._send(Request.END_REQUEST, pack('LBBBB', 0, Status.REQUEST_COMPLETE.value, 0,0,0))\n",
    "\n",
    "    def _recv(self,d):\n",
    "        for typ,c in _records(d):\n",
    "            if typ in (Request.PARAMS,*_chk_typs): self.streams[typ].append(c)\n",
    "            else: getattr(self,'_'+typ.name)(*unpack_content(typ,c))\n",
    "            if typ in _chk_typs: self.sz += len(c)\n",
    "        if self.sz>=self.length: return True\n",
    "\n",
    "    def __getitem__(self, k):\n",
    "        if isinstance(k,str): k = Request[k.upper()]\n",
    "        return self.streams[k] if k in self.streams else None\n",
    "    \n",
    "    def _ABORT_REQUEST(self): self.sz=self.length\n",
    "\n",
    "    def _BEGIN_REQUEST(self,role,keep_conn):\n",
    "        self.streams,self.sz = defaultdict(_Stream),0\n",
    "        assert Role(role)==Role.RESPONDER, f\"{role} not supported\"\n",
    "        assert not keep_conn, \"FCGI_KEEP_CONN not supported\"\n",
    "\n",
    "    def send(self, c, err=False):\n",
    "        \"Queue content `c` for sending\"\n",
    "        stream = self.streams[Request.STDERR if err else Request.STDOUT]\n",
    "        stream.append(c if isinstance(c,bytes) else bytes(c, 'utf8'))\n",
    "\n",
    "    def _send(self, stream, c=b''): self.request.send(pack_rec(stream, c))\n",
    "\n",
    "    def _end(self, stream):\n",
    "        if stream not in self.streams: return\n",
    "        for o in chunked(self[stream].buf, 64000): self._send(stream, bytes(o))\n",
    "        self._send(stream)\n",
    "\n",
    "    def __exit__(self, exc_type, exc_value, traceback): self.close()\n",
    "    def __enter__(self): return self\n",
    "\n",
    "    @property\n",
    "    def stdin(self): return str(self['stdin'])\n",
    "    @property\n",
    "    def params(self):\n",
    "        p = self['PARAMS']\n",
    "        return _params(p.buf) if p else {}\n",
    "    @property\n",
    "    def length(self): return int(self.params.get('CONTENT_LENGTH', 1))"
   ]
  },
  {
   "cell_type": "markdown",
   "metadata": {},
   "source": [
    "This is used in much the same way as [BaseRequestHandler](https://docs.python.org/3/library/socketserver.html#request-handler-objects), except that receiving the data is handled for you before your `handle` method is called. All headers are available in the `params` dictionary, and `stdin` contains the data sent to your handler.\n",
    "\n",
    "Use `send` to send data to the client, and add `err=True` to pass it as stderr.\n",
    "\n",
    "Here's an example subclass:"
   ]
  },
  {
   "cell_type": "code",
   "execution_count": null,
   "metadata": {},
   "outputs": [],
   "source": [
    "class TestHandler(FcgiHandler):\n",
    "    def handle(self):\n",
    "        print('query:', self.params['QUERY_STRING'])\n",
    "        print('content type:', self.params['HTTP_CONTENT_TYPE'])\n",
    "        print('stdin:', self.stdin)\n",
    "        self.send(\"Content-type: text/html\\r\\n\\r\\n<html>foobar</html>\\n\")"
   ]
  },
  {
   "cell_type": "markdown",
   "metadata": {},
   "source": [
    "To test it, we'll use an http->fcgi proxy, we can download `http2fcgi` and run it in the background as follows:"
   ]
  },
  {
   "cell_type": "code",
   "execution_count": null,
   "metadata": {},
   "outputs": [],
   "source": [
    "p = Path('test.sock').absolute()\n",
    "\n",
    "run('./get_http2fcgi.sh')\n",
    "proc = subprocess.Popen(f'./http2fcgi -fcgi unix:///{p} -ext py'.split())"
   ]
  },
  {
   "cell_type": "markdown",
   "metadata": {},
   "source": [
    "We can now test the handler by running a server in the background..."
   ]
  },
  {
   "cell_type": "code",
   "execution_count": null,
   "metadata": {},
   "outputs": [],
   "source": [
    "@threaded\n",
    "def _f():\n",
    "    with socketserver.UnixStreamServer(str(p), TestHandler) as server: server.handle_request()\n",
    "\n",
    "if p.exists(): p.unlink()\n",
    "t = _f()"
   ]
  },
  {
   "cell_type": "markdown",
   "metadata": {},
   "source": [
    "...and use `curl` to test it:"
   ]
  },
  {
   "cell_type": "code",
   "execution_count": null,
   "metadata": {},
   "outputs": [
    {
     "name": "stdout",
     "output_type": "stream",
     "text": [
      "query: a=1\n",
      "content type: application/json\n",
      "stdin: test\n",
      "<html>foobar</html>\r\n"
     ]
    }
   ],
   "source": [
    "!curl 'http://localhost:6065/setup.py?a=1' -X POST -H \"Content-Type: application/json\" -d test"
   ]
  },
  {
   "cell_type": "markdown",
   "metadata": {},
   "source": [
    "Finally, we kill the `http2fcgi` background process."
   ]
  },
  {
   "cell_type": "code",
   "execution_count": null,
   "metadata": {},
   "outputs": [],
   "source": [
    "proc.terminate()"
   ]
  },
  {
   "cell_type": "markdown",
   "metadata": {},
   "source": [
    "## Export -"
   ]
  },
  {
   "cell_type": "code",
   "execution_count": null,
   "metadata": {},
   "outputs": [
    {
     "name": "stdout",
     "output_type": "stream",
     "text": [
      "Converted 00_core.ipynb.\n",
      "Converted index.ipynb.\n"
     ]
    }
   ],
   "source": [
    "#hide\n",
    "from nbdev.export import notebook2script\n",
    "notebook2script()"
   ]
  },
  {
   "cell_type": "code",
   "execution_count": null,
   "metadata": {},
   "outputs": [],
   "source": []
  }
 ],
 "metadata": {
  "kernelspec": {
   "display_name": "Python 3",
   "language": "python",
   "name": "python3"
  }
 },
 "nbformat": 4,
 "nbformat_minor": 2
}
