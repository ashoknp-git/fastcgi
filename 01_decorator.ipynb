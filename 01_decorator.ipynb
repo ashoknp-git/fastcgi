{
 "cells": [
  {
   "cell_type": "code",
   "execution_count": null,
   "metadata": {},
   "outputs": [],
   "source": [
    "#default_exp decorator"
   ]
  },
  {
   "cell_type": "markdown",
   "metadata": {},
   "source": [
    "# fastcgi.decorator\n",
    "> Instant fastcgi scripts by just adding a decorator"
   ]
  },
  {
   "cell_type": "code",
   "execution_count": null,
   "metadata": {},
   "outputs": [],
   "source": [
    "#export\n",
    "from fastcgi.core import FcgiHandler,TextWrapper\n",
    "from fastcore.basics import *\n",
    "from fastcore.imports import *\n",
    "from socketserver import UnixStreamServer,TCPServer,ForkingMixIn,ForkingTCPServer\n",
    "import inspect,os,sys"
   ]
  },
  {
   "cell_type": "code",
   "execution_count": null,
   "metadata": {},
   "outputs": [],
   "source": [
    "#export\n",
    "_all_ = ['os','sys']"
   ]
  },
  {
   "cell_type": "code",
   "execution_count": null,
   "metadata": {},
   "outputs": [],
   "source": [
    "from fastcore.utils import *\n",
    "from fastcore.script import *\n",
    "import subprocess,time,urllib"
   ]
  },
  {
   "cell_type": "code",
   "execution_count": null,
   "metadata": {},
   "outputs": [],
   "source": [
    "#export\n",
    "class ForkingUnixServer(ForkingMixIn, UnixStreamServer): pass"
   ]
  },
  {
   "cell_type": "code",
   "execution_count": null,
   "metadata": {},
   "outputs": [],
   "source": [
    "#export\n",
    "def fastcgi(sock='fcgi.sock', func=None):\n",
    "    if callable(sock): sock,func = 'fcgi.sock',sock\n",
    "    if isinstance(sock,Path): sock = str(sock)\n",
    "    if func is None: return partial(fastcgi, sock)\n",
    "\n",
    "    mod = inspect.getmodule(inspect.currentframe().f_back)\n",
    "    class DecorateHandler(FcgiHandler):\n",
    "        def handle(self):\n",
    "            oldin,oldout,oldenv = sys.stdin,sys.stdout,os.environ\n",
    "            try:\n",
    "                sys.stdin,sys.stdout,os.environ = TextWrapper(self['stdin']),TextWrapper(self['stdout']),self.environ\n",
    "                func()\n",
    "            finally: sys.stdin,sys.stdout,os.environ = oldin,oldout,oldenv\n",
    "\n",
    "    srv_type = ForkingUnixServer if isinstance(sock,str) else ForkingTCPServer\n",
    "    f = partial(srv_type, sock, DecorateHandler)\n",
    "    if mod and mod.__name__==\"__main__\":\n",
    "        try:\n",
    "            with f() as srv: srv.serve_forever()\n",
    "        except KeyboardInterrupt:\n",
    "            if isinstance(sock,str):os.unlink(sock)\n",
    "    else: return f"
   ]
  },
  {
   "cell_type": "code",
   "execution_count": null,
   "metadata": {},
   "outputs": [],
   "source": [
    "def c():\n",
    "    return \"Content-type: text/html\\r\\n\\r\\n<html>\" \\\n",
    "        + f'{sys.stdin.read()} ; {os.environ[\"QUERY_STRING\"]}</html>\\r\\n'"
   ]
  },
  {
   "cell_type": "code",
   "execution_count": null,
   "metadata": {},
   "outputs": [],
   "source": [
    "p = Path('fcgi.sock')\n",
    "\n",
    "@fastcgi(p)\n",
    "def hello(): sys.stdout.write(c())\n",
    "\n",
    "@threaded\n",
    "def _f():\n",
    "    with hello() as srv: srv.handle_request()"
   ]
  },
  {
   "cell_type": "code",
   "execution_count": null,
   "metadata": {},
   "outputs": [
    {
     "name": "stdout",
     "output_type": "stream",
     "text": [
      "<html>foo=bar&greeting=你好 ; a=1</html>\r\n",
      "\n"
     ]
    }
   ],
   "source": [
    "proc = subprocess.Popen(['./http2fcgi'])\n",
    "if p.exists(): p.unlink()\n",
    "t = _f()\n",
    "time.sleep(0.2)\n",
    "res = urlread('http://localhost:6065/setup.py?a=1', foo='bar', greeting='你好')\n",
    "print(urllib.parse.unquote(res.decode()))\n",
    "proc.terminate()"
   ]
  },
  {
   "cell_type": "code",
   "execution_count": null,
   "metadata": {},
   "outputs": [],
   "source": [
    "addr = 'localhost',8003\n",
    "\n",
    "@fastcgi(addr)\n",
    "def hello(): sys.stdout.write(c())"
   ]
  },
  {
   "cell_type": "code",
   "execution_count": null,
   "metadata": {},
   "outputs": [],
   "source": [
    "time.sleep(0.5)\n",
    "proc = subprocess.Popen('./http2fcgi -fcgi tcp://localhost:8003'.split())\n",
    "t = _f()\n",
    "time.sleep(0.2)\n",
    "res = urlread('http://localhost:6065/setup.py?a=1', foo='bar', greeting='你好')\n",
    "print(urllib.parse.unquote(res.decode()))\n",
    "proc.terminate()"
   ]
  },
  {
   "cell_type": "markdown",
   "metadata": {},
   "source": [
    "## fin -"
   ]
  },
  {
   "cell_type": "code",
   "execution_count": null,
   "metadata": {},
   "outputs": [
    {
     "name": "stdout",
     "output_type": "stream",
     "text": [
      "Converted 00_core.ipynb.\n",
      "Converted 01_decorator.ipynb.\n",
      "Converted 02_http.ipynb.\n",
      "Converted index.ipynb.\n"
     ]
    }
   ],
   "source": [
    "#hide\n",
    "from nbdev.export import notebook2script\n",
    "notebook2script()"
   ]
  },
  {
   "cell_type": "code",
   "execution_count": null,
   "metadata": {},
   "outputs": [],
   "source": []
  }
 ],
 "metadata": {
  "kernelspec": {
   "display_name": "Python 3",
   "language": "python",
   "name": "python3"
  }
 },
 "nbformat": 4,
 "nbformat_minor": 4
}
