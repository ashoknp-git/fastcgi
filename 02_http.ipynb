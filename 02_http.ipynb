{
 "cells": [
  {
   "cell_type": "code",
   "execution_count": null,
   "metadata": {},
   "outputs": [],
   "source": [
    "#default_exp http"
   ]
  },
  {
   "cell_type": "markdown",
   "metadata": {},
   "source": [
    "# fastcgi.http\n",
    "> Not actually fastcgi at all! A very simple HTTP handler, designed for python apps behind a reverse proxy"
   ]
  },
  {
   "cell_type": "code",
   "execution_count": null,
   "metadata": {},
   "outputs": [],
   "source": [
    "#export\n",
    "from http import client,HTTPStatus\n",
    "from socketserver import ThreadingTCPServer,StreamRequestHandler\n",
    "from fastcore.foundation import add_docs"
   ]
  },
  {
   "cell_type": "code",
   "execution_count": null,
   "metadata": {},
   "outputs": [],
   "source": [
    "from nbdev import *\n",
    "from fastcore.utils import *\n",
    "import time,socket"
   ]
  },
  {
   "cell_type": "markdown",
   "metadata": {},
   "source": [
    "## Python's standard library servers"
   ]
  },
  {
   "cell_type": "markdown",
   "metadata": {},
   "source": [
    "Python's `socketserver` classes call `handle` in a `BaseRequestHandler` subclass that you pass in to its constructor. You use a `BaseRequestHandler` with any of the server classes/mixins provided by `socketserver`."
   ]
  },
  {
   "cell_type": "code",
   "execution_count": null,
   "metadata": {},
   "outputs": [],
   "source": [
    "#export\n",
    "class ReuseThreadingServer(ThreadingTCPServer): allow_reuse_address = 1"
   ]
  },
  {
   "cell_type": "code",
   "execution_count": null,
   "metadata": {},
   "outputs": [
    {
     "data": {
      "text/markdown": [
       "<h3 id=\"ReuseThreadingServer\" class=\"doc_header\"><code>class</code> <code>ReuseThreadingServer</code><a href=\"\" class=\"source_link\" style=\"float:right\">[source]</a></h3>\n",
       "\n",
       "> <code>ReuseThreadingServer</code>(**`server_address`**, **`RequestHandlerClass`**, **`bind_and_activate`**=*`True`*) :: `ThreadingTCPServer`\n",
       "\n",
       "Mix-in class to handle each request in a new thread."
      ],
      "text/plain": [
       "<IPython.core.display.Markdown object>"
      ]
     },
     "metadata": {},
     "output_type": "display_data"
    }
   ],
   "source": [
    "show_doc(ReuseThreadingServer, title_level=3)"
   ]
  },
  {
   "cell_type": "markdown",
   "metadata": {},
   "source": [
    "It's easiest to use `allow_reuse_address` to avoid having to wait for sockets to close, especially when testing. This class adds that functionality to `ThreadingTCPServer`.\n",
    "\n",
    "Here's an example of using Python's standard library features along with `ReuseThreadingServer`:"
   ]
  },
  {
   "cell_type": "code",
   "execution_count": null,
   "metadata": {},
   "outputs": [],
   "source": [
    "host,port = 'localhost',8000"
   ]
  },
  {
   "cell_type": "code",
   "execution_count": null,
   "metadata": {},
   "outputs": [],
   "source": [
    "class _TestHandler(StreamRequestHandler):\n",
    "    def handle(self):\n",
    "        print('received', self.rfile.readline())\n",
    "        self.wfile.write(bytes(f'pong {self.client_address[0]}\\r\\n', 'utf8'))"
   ]
  },
  {
   "cell_type": "code",
   "execution_count": null,
   "metadata": {},
   "outputs": [],
   "source": [
    "@startthread\n",
    "def _f():\n",
    "    with ReuseThreadingServer((host,port), _TestHandler) as srv: srv.handle_request()\n",
    "\n",
    "time.sleep(0.5) # wait for server to start"
   ]
  },
  {
   "cell_type": "code",
   "execution_count": null,
   "metadata": {},
   "outputs": [
    {
     "name": "stdout",
     "output_type": "stream",
     "text": [
      "received b'ping\\r\\n'\n"
     ]
    },
    {
     "data": {
      "text/plain": [
       "b'pong 127.0.0.1\\r\\n'"
      ]
     },
     "execution_count": null,
     "metadata": {},
     "output_type": "execute_result"
    }
   ],
   "source": [
    "c = start_client(port,host)\n",
    "c.send(b'ping\\r\\n')\n",
    "c.recv(1024)"
   ]
  },
  {
   "cell_type": "code",
   "execution_count": null,
   "metadata": {},
   "outputs": [],
   "source": [
    "#export\n",
    "class HandlerException(Exception):\n",
    "    \"Class for exceptions from setup of `MinimalHTTPHandler`\"\n",
    "    def __init__(self, code, err=''):\n",
    "        self.code = code\n",
    "        super().__init__(str(err))"
   ]
  },
  {
   "cell_type": "code",
   "execution_count": null,
   "metadata": {},
   "outputs": [
    {
     "data": {
      "text/markdown": [
       "<h3 id=\"HandlerException\" class=\"doc_header\"><code>class</code> <code>HandlerException</code><a href=\"\" class=\"source_link\" style=\"float:right\">[source]</a></h3>\n",
       "\n",
       "> <code>HandlerException</code>(**`code`**, **`err`**=*`''`*) :: `Exception`\n",
       "\n",
       "Class for exceptions from setup of [`MinimalHTTPHandler`](/fastcgi/http.html#MinimalHTTPHandler)"
      ],
      "text/plain": [
       "<IPython.core.display.Markdown object>"
      ]
     },
     "metadata": {},
     "output_type": "display_data"
    }
   ],
   "source": [
    "show_doc(HandlerException, title_level=3)"
   ]
  },
  {
   "cell_type": "markdown",
   "metadata": {},
   "source": [
    "## MinimalHTTPHandler -"
   ]
  },
  {
   "cell_type": "code",
   "execution_count": null,
   "metadata": {},
   "outputs": [],
   "source": [
    "#export\n",
    "class MinimalHTTPHandler(StreamRequestHandler):\n",
    "    protocol_version,MessageClass = \"HTTP/1.0\",client.HTTPMessage\n",
    "    def _setup(self):\n",
    "        super().setup()\n",
    "        self.raw_requestline = self.rfile.readline(65537)\n",
    "        if len(self.raw_requestline) > 65536: raise HandlerException(HTTPStatus.REQUEST_URI_TOO_LONG)\n",
    "        if not self.raw_requestline: raise HandlerException(HTTPStatus.BAD_REQUEST, \"No request line\")\n",
    "        words = str(self.raw_requestline, 'iso-8859-1').rstrip('\\r\\n').split()\n",
    "        if len(words) != 3: raise Exception(f'Invalid request: {words}')\n",
    "        self.command,self.path,version = words\n",
    "        if not version.startswith('HTTP/'): raise HandlerException( HTTPStatus.HTTP_VERSION_NOT_SUPPORTED, version )\n",
    "        self.request_version = version.split('/', 1)[1]\n",
    "        self.headers = client.parse_headers(self.rfile, _class=self.MessageClass)\n",
    "\n",
    "    def setup(self):\n",
    "        try: self._setup()\n",
    "        except Exception as e: self.setup_ex(e)\n",
    "\n",
    "    def setup_ex(self, e): raise e from None\n",
    "    def send_header(self, keyword, value): self._headers_buffer.append(f\"{keyword}: {value}\\r\\n\")\n",
    "\n",
    "    def end_headers(self):\n",
    "        self._headers_buffer.append(\"\\r\\n\")\n",
    "        if self._headers_buffer: self.wfile.write(\"\".join(self._headers_buffer).encode( 'latin-1', 'strict'))\n",
    "\n",
    "    def send_response(self, code, message=''):\n",
    "        if not message:\n",
    "            try: message = HTTPStatus(code).phrase\n",
    "            except ValueError: message = ''\n",
    "        self._headers_buffer = [f\"{self.protocol_version} {code} {message}\\r\\n\"]\n",
    "        self.send_header(\"Connection\", \"close\")"
   ]
  },
  {
   "cell_type": "code",
   "execution_count": null,
   "metadata": {},
   "outputs": [],
   "source": [
    "#export\n",
    "add_docs(MinimalHTTPHandler, \"A greatly simplified version of `BaseHTTPHandler`. Overriding `handle` is required.\",\n",
    "         setup=\"Overriden from `BaseRequestHandler`\",\n",
    "         setup_ex=\"Override to handle exceptions in `setup`\",\n",
    "         send_response=\"Set the HTTP response code to `code`\",\n",
    "         send_header=\"Send a MIME header to the headers buffer\",\n",
    "         end_headers=\"Send the blank line ending the MIME headers\",\n",
    "         MessageClass=\"Class used for `http.client.parse_headers\")"
   ]
  },
  {
   "cell_type": "markdown",
   "metadata": {},
   "source": [
    "`MinimalHTTPHandler` parses the HTTP command and headers, and sets `command`, `path`, `request_version`, and `headers`. It is based on the code in Python's `BaseHTTPHandler`, but is greatly simplified, and made consistent with the other `socketserver` servers.\n",
    "\n",
    "To send a response, call `send_response(code)`, optionally `send_header` a few times, then `end_headers`, and finally write to `wfile`. For instance:"
   ]
  },
  {
   "cell_type": "code",
   "execution_count": null,
   "metadata": {},
   "outputs": [],
   "source": [
    "class _TestHandler(MinimalHTTPHandler):\n",
    "    def handle(self):\n",
    "        print(f'Command/path/version: {self.command} {self.path} {self.request_version}')\n",
    "        print(self.headers)\n",
    "        self.send_response(200)\n",
    "        self.send_header(\"Content-Type\", \"text/plain\")\n",
    "        self.send_header('Content-Length', '2')\n",
    "        self.end_headers()\n",
    "        self.wfile.write(b'ok')"
   ]
  },
  {
   "cell_type": "code",
   "execution_count": null,
   "metadata": {},
   "outputs": [
    {
     "name": "stdout",
     "output_type": "stream",
     "text": [
      "Command/path/version: GET / 1.1\n",
      "Accept-Encoding: identity\n",
      "Host: localhost:8000\n",
      "User-Agent: Mozilla/5.0 (Windows NT 10.0; Win64; x64) AppleWebKit/537.36 (KHTML, like Gecko) Chrome/86.0.4240.183 Safari/537.36\n",
      "Connection: close\n",
      "\n",
      "\n"
     ]
    }
   ],
   "source": [
    "@startthread\n",
    "def _f():\n",
    "    with ReuseThreadingServer(('localhost',8000), _TestHandler) as httpd: httpd.handle_request()\n",
    "\n",
    "time.sleep(0.5) # wait for server to start\n",
    "test_eq(urlread(\"http://localhost:8000\"), b'ok')"
   ]
  },
  {
   "cell_type": "markdown",
   "metadata": {},
   "source": [
    "## Export -"
   ]
  },
  {
   "cell_type": "code",
   "execution_count": null,
   "metadata": {},
   "outputs": [
    {
     "name": "stdout",
     "output_type": "stream",
     "text": [
      "Converted 00_core.ipynb.\n",
      "Converted 01_decorator.ipynb.\n",
      "Converted 02_http.ipynb.\n",
      "Converted index.ipynb.\n"
     ]
    }
   ],
   "source": [
    "#hide\n",
    "from nbdev.export import notebook2script\n",
    "notebook2script()"
   ]
  },
  {
   "cell_type": "code",
   "execution_count": null,
   "metadata": {},
   "outputs": [],
   "source": []
  }
 ],
 "metadata": {
  "kernelspec": {
   "display_name": "Python 3",
   "language": "python",
   "name": "python3"
  }
 },
 "nbformat": 4,
 "nbformat_minor": 4
}
